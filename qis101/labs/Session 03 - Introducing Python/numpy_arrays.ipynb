{
 "cells": [
  {
   "cell_type": "code",
   "execution_count": 4,
   "id": "4e99db99",
   "metadata": {},
   "outputs": [
    {
     "name": "stdout",
     "output_type": "stream",
     "text": [
      "x = [ 1  2  3  4  5  6  7  8  9 10]\n"
     ]
    }
   ],
   "source": [
    "\"\"\"numpy_arrays.ipynb\"\"\"\n",
    "\n",
    "# Cell 01\n",
    "\n",
    "import numpy as np\n",
    "\n",
    "x = np.arange(1, 11, 1)\n",
    "\n",
    "\n",
    "print(f\"x = {x}\")"
   ]
  },
  {
   "cell_type": "code",
   "execution_count": 5,
   "id": "a9c7c743",
   "metadata": {},
   "outputs": [
    {
     "name": "stdout",
     "output_type": "stream",
     "text": [
      "x = [0 1 2 3 4 5 6 7 8 9]\n"
     ]
    }
   ],
   "source": [
    "# Cell 02\n",
    "\n",
    "x = np.arange(10)\n",
    "print(f\"x = {x}\")"
   ]
  },
  {
   "cell_type": "code",
   "execution_count": 6,
   "id": "f47fcb17",
   "metadata": {},
   "outputs": [
    {
     "name": "stdout",
     "output_type": "stream",
     "text": [
      "x = [0 1 2 3 4 5 6 7 8 9]\n",
      "y = [ 0  2  4  6  8 10 12 14 16 18]\n"
     ]
    }
   ],
   "source": [
    "# Cell 03\n",
    "\n",
    "y = x * 2\n",
    "print(f\"x = {x}\")\n",
    "print(f\"y = {y}\")"
   ]
  },
  {
   "cell_type": "code",
   "execution_count": 7,
   "id": "5a850b3a",
   "metadata": {},
   "outputs": [
    {
     "name": "stdout",
     "output_type": "stream",
     "text": [
      "x = [0 1 2 3 4 5 6 7 8 9]\n",
      "y = [ 0  1  4  9 16 25 36 49 64 81]\n"
     ]
    }
   ],
   "source": [
    "# Cell 04\n",
    "\n",
    "y = x**2\n",
    "print(f\"x = {x}\")\n",
    "print(f\"y = {y}\")"
   ]
  },
  {
   "cell_type": "code",
   "execution_count": 8,
   "id": "6aff4be1",
   "metadata": {},
   "outputs": [
    {
     "name": "stdout",
     "output_type": "stream",
     "text": [
      "x = [0 2 4 6 8]\n"
     ]
    }
   ],
   "source": [
    "# Cell 05\n",
    "\n",
    "x = np.arange(0, 10, 2)\n",
    "print(f\"x = {x}\")"
   ]
  },
  {
   "cell_type": "code",
   "execution_count": 9,
   "id": "fcb3a004",
   "metadata": {},
   "outputs": [
    {
     "name": "stdout",
     "output_type": "stream",
     "text": [
      "x = [10  8  6  4  2]\n"
     ]
    }
   ],
   "source": [
    "# Cell 06\n",
    "\n",
    "x = np.arange(10, 0, -2)\n",
    "print(f\"x = {x}\")"
   ]
  },
  {
   "cell_type": "code",
   "execution_count": 10,
   "id": "fc9a055b",
   "metadata": {},
   "outputs": [
    {
     "name": "stdout",
     "output_type": "stream",
     "text": [
      "x = [1. 2. 3. 4. 5.]\n"
     ]
    }
   ],
   "source": [
    "# Cell 07\n",
    "\n",
    "x = np.linspace(1, 5, 5)\n",
    "print(f\"x = {x}\")"
   ]
  },
  {
   "cell_type": "code",
   "execution_count": 11,
   "id": "5a2bb6ef",
   "metadata": {},
   "outputs": [
    {
     "name": "stdout",
     "output_type": "stream",
     "text": [
      "x = [1. 2. 3. 4. 5.]\n",
      "x/2 = [0.5 1.  1.5 2.  2.5]\n",
      "x^2 - x/2 = [ 0.5  3.   7.5 14.  22.5]\n"
     ]
    }
   ],
   "source": [
    "# Cell 08\n",
    "\n",
    "y = x / 2\n",
    "print(f\"x = {x}\")\n",
    "print(f\"x/2 = {y}\")\n",
    "print(f\"x^2 - x/2 = {x**2 - y}\")"
   ]
  },
  {
   "cell_type": "code",
   "execution_count": 12,
   "id": "11841575",
   "metadata": {},
   "outputs": [
    {
     "name": "stdout",
     "output_type": "stream",
     "text": [
      "x = [ 0.          0.20408163  0.40816327  0.6122449   0.81632653  1.02040816\n",
      "  1.2244898   1.42857143  1.63265306  1.83673469  2.04081633  2.24489796\n",
      "  2.44897959  2.65306122  2.85714286  3.06122449  3.26530612  3.46938776\n",
      "  3.67346939  3.87755102  4.08163265  4.28571429  4.48979592  4.69387755\n",
      "  4.89795918  5.10204082  5.30612245  5.51020408  5.71428571  5.91836735\n",
      "  6.12244898  6.32653061  6.53061224  6.73469388  6.93877551  7.14285714\n",
      "  7.34693878  7.55102041  7.75510204  7.95918367  8.16326531  8.36734694\n",
      "  8.57142857  8.7755102   8.97959184  9.18367347  9.3877551   9.59183673\n",
      "  9.79591837 10.        ]\n",
      "50\n"
     ]
    }
   ],
   "source": [
    "# Cell 09\n",
    "\n",
    "x = np.linspace(0, 10)\n",
    "print(f\"x = {x}\")\n",
    "print(x.size)"
   ]
  },
  {
   "cell_type": "code",
   "execution_count": 13,
   "id": "23021bdc",
   "metadata": {},
   "outputs": [
    {
     "name": "stdout",
     "output_type": "stream",
     "text": [
      "0.0\n",
      "10.0\n"
     ]
    }
   ],
   "source": [
    "# Cell 10\n",
    "\n",
    "print(x[0])\n",
    "print(x[-1])"
   ]
  },
  {
   "cell_type": "code",
   "execution_count": 14,
   "id": "be98e329",
   "metadata": {},
   "outputs": [
    {
     "name": "stdout",
     "output_type": "stream",
     "text": [
      "[0.         0.45175395 0.63887656 0.7824608  0.9035079  1.01015254\n",
      " 1.10656667 1.19522861 1.27775313 1.35526185 1.42857143 1.49829835\n",
      " 1.56492159 1.62882204 1.69030851 1.74963553 1.80701581 1.86262926\n",
      " 1.91662969 1.96914982 2.02030509 2.07019668 2.11891385 2.16653584\n",
      " 2.21313334 2.25876976 2.30350221 2.34738239 2.39045722 2.43276948\n",
      " 2.4743583  2.51525955 2.55550626 2.59512887 2.63415556 2.67261242\n",
      " 2.71052371 2.74791201 2.78479838 2.82120252 2.85714286 2.89263668\n",
      " 2.92770022 2.96234876 2.99659671 3.03045763 3.06394437 3.09706906\n",
      " 3.12984319 3.16227766]\n"
     ]
    }
   ],
   "source": [
    "# Cell 11\n",
    "\n",
    "print(np.sqrt(x))"
   ]
  }
 ],
 "metadata": {
  "kernelspec": {
   "display_name": "qis101",
   "language": "python",
   "name": "python3"
  },
  "language_info": {
   "codemirror_mode": {
    "name": "ipython",
    "version": 3
   },
   "file_extension": ".py",
   "mimetype": "text/x-python",
   "name": "python",
   "nbconvert_exporter": "python",
   "pygments_lexer": "ipython3",
   "version": "3.12.11"
  }
 },
 "nbformat": 4,
 "nbformat_minor": 5
}
