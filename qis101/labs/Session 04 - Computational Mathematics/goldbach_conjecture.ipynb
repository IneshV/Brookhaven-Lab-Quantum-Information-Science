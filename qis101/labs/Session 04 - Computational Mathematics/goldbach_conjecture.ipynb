{
 "cells": [
  {
   "cell_type": "code",
   "execution_count": 3,
   "metadata": {},
   "outputs": [
    {
     "name": "stdout",
     "output_type": "stream",
     "text": [
      "Requirement already satisfied: sumpy in /Users/ineshvytheswaran/miniconda3/envs/qis101/lib/python3.12/site-packages (2022.1)\n",
      "Requirement already satisfied: pytools>=2021.1.1 in /Users/ineshvytheswaran/miniconda3/envs/qis101/lib/python3.12/site-packages (from sumpy) (2025.1.6)\n",
      "Requirement already satisfied: loopy>=2021.1 in /Users/ineshvytheswaran/miniconda3/envs/qis101/lib/python3.12/site-packages (from sumpy) (2025.1)\n",
      "Requirement already satisfied: boxtree>=2018.1 in /Users/ineshvytheswaran/miniconda3/envs/qis101/lib/python3.12/site-packages (from sumpy) (2023.1)\n",
      "Requirement already satisfied: arraycontext in /Users/ineshvytheswaran/miniconda3/envs/qis101/lib/python3.12/site-packages (from sumpy) (2021.1)\n",
      "Requirement already satisfied: pyrsistent>=0.16.0 in /Users/ineshvytheswaran/miniconda3/envs/qis101/lib/python3.12/site-packages (from sumpy) (0.20.0)\n",
      "Requirement already satisfied: sympy>=0.7.2 in /Users/ineshvytheswaran/miniconda3/envs/qis101/lib/python3.12/site-packages (from sumpy) (1.14.0)\n",
      "Requirement already satisfied: pymbolic>=2021.1 in /Users/ineshvytheswaran/miniconda3/envs/qis101/lib/python3.12/site-packages (from sumpy) (2024.2.2)\n",
      "Requirement already satisfied: pyvkfft>=2022.1 in /Users/ineshvytheswaran/miniconda3/envs/qis101/lib/python3.12/site-packages (from sumpy) (2024.1.4)\n",
      "Requirement already satisfied: Mako>=0.7.3 in /Users/ineshvytheswaran/miniconda3/envs/qis101/lib/python3.12/site-packages (from boxtree>=2018.1->sumpy) (1.3.10)\n",
      "Requirement already satisfied: pyopencl>=2018.2.2 in /Users/ineshvytheswaran/miniconda3/envs/qis101/lib/python3.12/site-packages (from boxtree>=2018.1->sumpy) (2025.2.4)\n",
      "Requirement already satisfied: cgen>=2013.1.2 in /Users/ineshvytheswaran/miniconda3/envs/qis101/lib/python3.12/site-packages (from boxtree>=2018.1->sumpy) (2020.1)\n",
      "Requirement already satisfied: numpy in /Users/ineshvytheswaran/miniconda3/envs/qis101/lib/python3.12/site-packages (from arraycontext->sumpy) (2.3.0)\n",
      "Requirement already satisfied: pytest>=2.3 in /Users/ineshvytheswaran/miniconda3/envs/qis101/lib/python3.12/site-packages (from arraycontext->sumpy) (8.4.0)\n",
      "Requirement already satisfied: codepy>=2017.1 in /Users/ineshvytheswaran/miniconda3/envs/qis101/lib/python3.12/site-packages (from loopy>=2021.1->sumpy) (2025.1)\n",
      "Requirement already satisfied: colorama in /Users/ineshvytheswaran/miniconda3/envs/qis101/lib/python3.12/site-packages (from loopy>=2021.1->sumpy) (0.4.6)\n",
      "Requirement already satisfied: constantdict in /Users/ineshvytheswaran/miniconda3/envs/qis101/lib/python3.12/site-packages (from loopy>=2021.1->sumpy) (2025.2)\n",
      "Requirement already satisfied: genpy>=2016.1.2 in /Users/ineshvytheswaran/miniconda3/envs/qis101/lib/python3.12/site-packages (from loopy>=2021.1->sumpy) (2022.1)\n",
      "Requirement already satisfied: islpy>=2019.1 in /Users/ineshvytheswaran/miniconda3/envs/qis101/lib/python3.12/site-packages (from loopy>=2021.1->sumpy) (2025.2.5)\n",
      "Requirement already satisfied: typing-extensions>=4 in /Users/ineshvytheswaran/miniconda3/envs/qis101/lib/python3.12/site-packages (from loopy>=2021.1->sumpy) (4.14.0)\n",
      "Requirement already satisfied: platformdirs>=2.2.0 in /Users/ineshvytheswaran/miniconda3/envs/qis101/lib/python3.12/site-packages (from codepy>=2017.1->loopy>=2021.1->sumpy) (4.3.8)\n",
      "Requirement already satisfied: MarkupSafe>=0.9.2 in /Users/ineshvytheswaran/miniconda3/envs/qis101/lib/python3.12/site-packages (from Mako>=0.7.3->boxtree>=2018.1->sumpy) (3.0.2)\n",
      "Requirement already satisfied: immutabledict in /Users/ineshvytheswaran/miniconda3/envs/qis101/lib/python3.12/site-packages (from pymbolic>=2021.1->sumpy) (4.2.1)\n",
      "Requirement already satisfied: iniconfig>=1 in /Users/ineshvytheswaran/miniconda3/envs/qis101/lib/python3.12/site-packages (from pytest>=2.3->arraycontext->sumpy) (2.1.0)\n",
      "Requirement already satisfied: packaging>=20 in /Users/ineshvytheswaran/miniconda3/envs/qis101/lib/python3.12/site-packages (from pytest>=2.3->arraycontext->sumpy) (25.0)\n",
      "Requirement already satisfied: pluggy<2,>=1.5 in /Users/ineshvytheswaran/miniconda3/envs/qis101/lib/python3.12/site-packages (from pytest>=2.3->arraycontext->sumpy) (1.6.0)\n",
      "Requirement already satisfied: pygments>=2.7.2 in /Users/ineshvytheswaran/miniconda3/envs/qis101/lib/python3.12/site-packages (from pytest>=2.3->arraycontext->sumpy) (2.19.1)\n",
      "Requirement already satisfied: siphash24>=1.6 in /Users/ineshvytheswaran/miniconda3/envs/qis101/lib/python3.12/site-packages (from pytools>=2021.1.1->sumpy) (1.7)\n",
      "Requirement already satisfied: psutil in /Users/ineshvytheswaran/miniconda3/envs/qis101/lib/python3.12/site-packages (from pyvkfft>=2022.1->sumpy) (5.9.0)\n",
      "Requirement already satisfied: mpmath<1.4,>=1.1.0 in /Users/ineshvytheswaran/miniconda3/envs/qis101/lib/python3.12/site-packages (from sympy>=0.7.2->sumpy) (1.3.0)\n"
     ]
    }
   ],
   "source": [
    "!pip install sumpy"
   ]
  },
  {
   "cell_type": "code",
   "execution_count": 4,
   "metadata": {},
   "outputs": [
    {
     "name": "stdout",
     "output_type": "stream",
     "text": [
      "[ 3  5  7 11 13 17 19 23 29 31]\n",
      "[463 467 479 487 491 499 503 509 521 523]\n"
     ]
    }
   ],
   "source": [
    "\"\"\"goldbach_conjecture.ipynb\"\"\"\n",
    "\n",
    "# Cell 01\n",
    "\n",
    "import numpy as np\n",
    "from sympy import prime\n",
    "\n",
    "test_limit = 100\n",
    "\n",
    "# Use a list comprehension to create an array of the first 'n' ODD primes\n",
    "primes = np.array([prime(n) for n in range(2, test_limit)])\n",
    "\n",
    "print(primes[:10])\n",
    "print(primes[-10:])"
   ]
  },
  {
   "cell_type": "code",
   "execution_count": 5,
   "metadata": {},
   "outputs": [
    {
     "name": "stdout",
     "output_type": "stream",
     "text": [
      "4851\n"
     ]
    },
    {
     "data": {
      "text/plain": [
       "[((np.int64(3), np.int64(3)),\n",
       "  (np.int64(5), np.int64(5)),\n",
       "  (np.int64(7), np.int64(7))),\n",
       " ((np.int64(3), np.int64(5)),\n",
       "  (np.int64(5), np.int64(7)),\n",
       "  (np.int64(7), np.int64(11))),\n",
       " ((np.int64(3), np.int64(7)),\n",
       "  (np.int64(5), np.int64(11)),\n",
       "  (np.int64(7), np.int64(13))),\n",
       " ((np.int64(3), np.int64(11)),\n",
       "  (np.int64(5), np.int64(13)),\n",
       "  (np.int64(7), np.int64(17))),\n",
       " ((np.int64(3), np.int64(13)),\n",
       "  (np.int64(5), np.int64(17)),\n",
       "  (np.int64(7), np.int64(19)))]"
      ]
     },
     "execution_count": 5,
     "metadata": {},
     "output_type": "execute_result"
    }
   ],
   "source": [
    "# Cell 02 - Generate all pairs of primes (with repetition)\n",
    "\n",
    "from itertools import combinations_with_replacement\n",
    "\n",
    "prime_pairs = [*combinations_with_replacement(primes, 2)]\n",
    "\n",
    "print(len(prime_pairs))\n",
    "\n",
    "[*zip(prime_pairs[:5], prime_pairs[98:], prime_pairs[195:])]"
   ]
  },
  {
   "cell_type": "code",
   "execution_count": 6,
   "metadata": {},
   "outputs": [
    {
     "name": "stdout",
     "output_type": "stream",
     "text": [
      "[ 6  8 10 12 14 16 18 20 22 24]\n",
      "[1018 1020 1022 1024 1026 1030 1032 1042 1044 1046]\n"
     ]
    }
   ],
   "source": [
    "# Cell 03 - Create a sorted array containing the unique sums of each prime pairs\n",
    "\n",
    "summed_pairs = np.sort(np.unique(np.array([sum(pair) for pair in prime_pairs])))\n",
    "\n",
    "print(summed_pairs[:10])\n",
    "print(summed_pairs[-10:])"
   ]
  },
  {
   "cell_type": "code",
   "execution_count": 7,
   "metadata": {},
   "outputs": [
    {
     "name": "stdout",
     "output_type": "stream",
     "text": [
      "Number of Goldbach violations up to 1046: 0\n"
     ]
    }
   ],
   "source": [
    "# Cell 04\n",
    "\n",
    "\"\"\"\n",
    "Determine which EVEN integers from 6 to test_limit (inclusive) are NOT in\n",
    "the list of summed prime pairs. The numpy function setdiff1d() returns\n",
    "any elements in the first array that are not also in the second array\n",
    "\"\"\"\n",
    "\n",
    "violations = np.setdiff1d(range(6, test_limit + 2, 2), summed_pairs)\n",
    "\n",
    "print(f\"Number of Goldbach violations up to {summed_pairs[-1]}: {len(violations)}\")\n",
    "if len(violations > 0):\n",
    "    print(violations)"
   ]
  }
 ],
 "metadata": {
  "kernelspec": {
   "display_name": "qis101",
   "language": "python",
   "name": "python3"
  },
  "language_info": {
   "codemirror_mode": {
    "name": "ipython",
    "version": 3
   },
   "file_extension": ".py",
   "mimetype": "text/x-python",
   "name": "python",
   "nbconvert_exporter": "python",
   "pygments_lexer": "ipython3",
   "version": "3.12.11"
  }
 },
 "nbformat": 4,
 "nbformat_minor": 2
}
