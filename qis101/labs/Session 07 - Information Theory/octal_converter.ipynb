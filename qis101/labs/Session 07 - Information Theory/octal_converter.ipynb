{
 "cells": [
  {
   "cell_type": "code",
   "execution_count": 5,
   "id": "fe94064e",
   "metadata": {},
   "outputs": [
    {
     "name": "stdout",
     "output_type": "stream",
     "text": [
      "Octal 2323 → Decimal 1235\n"
     ]
    }
   ],
   "source": [
    "# Octal (base-8) to Decimal (base-10) via manual loop\n",
    "octal_str = \"2323\"\n",
    "decimal_val = 0\n",
    "\n",
    "for idx, digit_char in enumerate(reversed(octal_str)):\n",
    "    digit = int(digit_char)\n",
    "    decimal_val += digit * (8 ** idx)\n",
    "\n",
    "print(f\"Octal {octal_str} → Decimal {decimal_val}\")\n"
   ]
  },
  {
   "cell_type": "code",
   "execution_count": null,
   "id": "e7999512",
   "metadata": {},
   "outputs": [
    {
     "name": "stdout",
     "output_type": "stream",
     "text": [
      "Decimal 1235 → Octal 2323\n"
     ]
    }
   ],
   "source": [
    "# Reverse of Cell 1: decimal back to octal via successive division\n",
    "decimal_input = decimal_val   \n",
    "octal_digits = []\n",
    "\n",
    "n = decimal_input\n",
    "while n > 0:\n",
    "    n, rem = divmod(n, 8)\n",
    "    octal_digits.append(str(rem))\n",
    "\n",
    "octal_loop = \"\".join(reversed(octal_digits))\n",
    "print(f\"Decimal {decimal_input} → Octal {octal_loop}\")\n"
   ]
  },
  {
   "cell_type": "code",
   "execution_count": 7,
   "id": "8f1bb2d7",
   "metadata": {},
   "outputs": [
    {
     "name": "stdout",
     "output_type": "stream",
     "text": [
      "Octal 2323 → Decimal 1235\n"
     ]
    }
   ],
   "source": [
    "octal_str2 = \"2323\"\n",
    "decimal_val2 = int(octal_str2, 8)   # built-in base conversion\n",
    "print(f\"Octal {octal_str2} → Decimal {decimal_val2}\")\n"
   ]
  },
  {
   "cell_type": "code",
   "execution_count": null,
   "id": "1324b60c",
   "metadata": {},
   "outputs": [
    {
     "name": "stdout",
     "output_type": "stream",
     "text": [
      "Decimal 1235 → Octal 2323\n"
     ]
    }
   ],
   "source": [
    "decimal_input2 = decimal_val2     \n",
    "octal_no_loop = oct(decimal_input2)[2:]\n",
    "print(f\"Decimal {decimal_input2} → Octal {octal_no_loop}\")\n"
   ]
  }
 ],
 "metadata": {
  "kernelspec": {
   "display_name": "qis101",
   "language": "python",
   "name": "python3"
  },
  "language_info": {
   "codemirror_mode": {
    "name": "ipython",
    "version": 3
   },
   "file_extension": ".py",
   "mimetype": "text/x-python",
   "name": "python",
   "nbconvert_exporter": "python",
   "pygments_lexer": "ipython3",
   "version": "3.12.11"
  }
 },
 "nbformat": 4,
 "nbformat_minor": 5
}
