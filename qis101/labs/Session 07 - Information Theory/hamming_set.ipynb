{
 "cells": [
  {
   "cell_type": "markdown",
   "id": "4972dd94",
   "metadata": {},
   "source": [
    "# Hamming-Weight Filter for Numbers < 256\n",
    "Show all positive integers **\\< 256** whose Hamming weight  \n",
    "(number of 1-bits) is **2, 3, or 4**."
   ]
  },
  {
   "cell_type": "code",
   "execution_count": 5,
   "id": "afbe8e78",
   "metadata": {},
   "outputs": [],
   "source": [
    "def hamming_weight(n: int) -> int:\n",
    "    \"\"\"Return number of 1-bits in integer n (Brian Kernighan’s algorithm).\"\"\"\n",
    "    count = 0\n",
    "    while n:\n",
    "        n &= n - 1      # clear the least-significant 1-bit\n",
    "        count += 1\n",
    "    return count\n"
   ]
  },
  {
   "cell_type": "code",
   "execution_count": null,
   "id": "b8653110",
   "metadata": {},
   "outputs": [
    {
     "name": "stdout",
     "output_type": "stream",
     "text": [
      "Numbers < 256 with Hamming weight 2, 3, or 4:\n",
      "[3, 5, 6, 7, 9, 10, 11, 12, 13, 14, 15, 17, 18, 19, 20, 21, 22, 23, 24, 25, 26, 27, 28, 29, 30, 33, 34, 35, 36, 37, 38, 39, 40, 41, 42, 43, 44, 45, 46, 48, 49, 50, 51, 52, 53, 54, 56, 57, 58, 60, 65, 66, 67, 68, 69, 70, 71, 72, 73, 74, 75, 76, 77, 78, 80, 81, 82, 83, 84, 85, 86, 88, 89, 90, 92, 96, 97, 98, 99, 100, 101, 102, 104, 105, 106, 108, 112, 113, 114, 116, 120, 129, 130, 131, 132, 133, 134, 135, 136, 137, 138, 139, 140, 141, 142, 144, 145, 146, 147, 148, 149, 150, 152, 153, 154, 156, 160, 161, 162, 163, 164, 165, 166, 168, 169, 170, 172, 176, 177, 178, 180, 184, 192, 193, 194, 195, 196, 197, 198, 200, 201, 202, 204, 208, 209, 210, 212, 216, 224, 225, 226, 228, 232, 240]\n",
      "Total count: 154\n"
     ]
    }
   ],
   "source": [
    "targets = [2, 3, 4] # desired Hamming weights\n",
    "qualify = [n for n in range(1, 256) if hamming_weight(n) in targets]\n",
    "\n",
    "print(\"Numbers < 256 with Hamming weight 2, 3, or 4:\")\n",
    "print(qualify)\n",
    "print(f\"Total count: {len(qualify)}\")\n"
   ]
  }
 ],
 "metadata": {
  "kernelspec": {
   "display_name": "qis101",
   "language": "python",
   "name": "python3"
  },
  "language_info": {
   "codemirror_mode": {
    "name": "ipython",
    "version": 3
   },
   "file_extension": ".py",
   "mimetype": "text/x-python",
   "name": "python",
   "nbconvert_exporter": "python",
   "pygments_lexer": "ipython3",
   "version": "3.12.11"
  }
 },
 "nbformat": 4,
 "nbformat_minor": 5
}
